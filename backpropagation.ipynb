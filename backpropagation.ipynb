{
 "cells": [
  {
   "cell_type": "markdown",
   "metadata": {},
   "source": [
    "# 誤差逆伝播法\n",
    "\n",
    "「誤差伝播法ってなぁに？」  \n",
    "「ニューラルネットワークの学習時に、パラメータの勾配を求める為の手法だよ」"
   ]
  },
  {
   "cell_type": "markdown",
   "metadata": {},
   "source": [
    "## 合成関数の微分\n",
    "\n",
    "高校でやるやつ。これが分かれば誤差逆伝播法なんてほとんど理解したようなもん\n",
    "\n",
    "<br>\n",
    "\n",
    "試しに、以下の関数を微分してみよう。\n",
    "\n",
    "$$\n",
    "y = (x + 1)^2\n",
    "$$\n",
    "\n",
    "これは普通に展開しても解けるけど、合成関数の微分を使っても解けるね\n",
    "\n",
    "$$\n",
    "u = x + 1 \\\\\n",
    "y = u^2 \\\\\n",
    "\\frac{dy}{dx} = \\frac{dy}{du} \\frac{du}{dx} = 2u \\cdot 1 = 2(x + 1)\n",
    "$$\n",
    "\n",
    "こんな感じで、**関数の関数**(合成関数)を微分するときは、関数ごとに微分をしたものをかけ合わせればよかった\n",
    "\n",
    "<br>\n",
    "\n",
    "じゃあここまでの流れをPythonで実装してみよう\n",
    "\n",
    "以下の二つの関数を`class`として実装する。\n",
    "- $f(x) = x + 1$\n",
    "- $g(x) = x^2$\n",
    "\n",
    "`class`にする必要ある？関数でよくね？と思うかもしれんけど、まあ読んでみてよ。  \n",
    "まずは$f(x) = x + 1$から"
   ]
  },
  {
   "cell_type": "code",
   "execution_count": 1,
   "metadata": {},
   "outputs": [],
   "source": [
    "class Plus1:\n",
    "    def __call__(self, x):\n",
    "        return x + 1"
   ]
  },
  {
   "cell_type": "markdown",
   "metadata": {},
   "source": [
    "出来た。入力した値に1を足して出力するだけの関数。`__call__()`というのは特殊メソッドで、関数のように`()`をつけて呼び出したときに実行されるヤツ。  \n",
    "こんな感じ"
   ]
  },
  {
   "cell_type": "code",
   "execution_count": 2,
   "metadata": {},
   "outputs": [
    {
     "name": "stdout",
     "output_type": "stream",
     "text": [
      "4\n"
     ]
    }
   ],
   "source": [
    "plus1 = Plus1() # インスタンス生成\n",
    "y = plus1(3) # # __call__メソッドの呼び出し\n",
    "print(y)"
   ]
  },
  {
   "cell_type": "markdown",
   "metadata": {},
   "source": [
    "入力した3に1を足した4が出力された。\n",
    "\n",
    "では、今度は微分を行うメソッドを書いてみよう。「微分を行う」というのを、「(`backward()`に)入力された値に微分した値をかけて出力する」と捉えるとこうなる"
   ]
  },
  {
   "cell_type": "code",
   "execution_count": 3,
   "metadata": {},
   "outputs": [],
   "source": [
    "class Plus1:\n",
    "    def __call__(self, x):\n",
    "        return x + 1\n",
    "\n",
    "    def backward(self, d):\n",
    "        return d * 1"
   ]
  },
  {
   "cell_type": "markdown",
   "metadata": {},
   "source": [
    "`backward()`というメソッドを追加した。  \n",
    "$x + 1$を$x$で微分すると1になるので、入力値(d)に1をかけて出力させる。\n",
    "\n",
    "こんなノリで、$g(x) = x^2$の方も書いちゃおう"
   ]
  },
  {
   "cell_type": "code",
   "execution_count": 4,
   "metadata": {},
   "outputs": [],
   "source": [
    "class Square:\n",
    "    def __call__(self, x):\n",
    "        self.x = x\n",
    "        return x ** 2\n",
    "\n",
    "    def backward(self, d):\n",
    "        return d * self.x*2"
   ]
  },
  {
   "cell_type": "markdown",
   "metadata": {},
   "source": [
    "できた。$g(x)$を$x$で微分すると$2x$になるので、それを入力値(d)にかけて出力する。微分するときに使うので、初めに入力された値(x)は変数に保存しておく。  \n",
    "こんな感じに、`backward()`を追加したり、値を一時的に保存したりしたかったから、classとして実装したのだ\n",
    "\n",
    "<br>\n",
    "\n",
    "ちなみに、`__call__()`で行なっている演算は**順伝播**  \n",
    "`backward()`で行なっている演算は**逆伝播**という\n",
    "\n",
    "あと、順伝播(`__call__()`)への入力と逆伝播(`backward()`)への入力が混ざる気がするので、今後以下のように区別する。  \n",
    "- 順伝播への入力: **入力(x)**\n",
    "- 逆伝播への入力: **入力(d)**\n",
    "\n",
    "<br>\n",
    "\n",
    "ではこれらを使って、実際に計算してみよう。  \n",
    "\n",
    "ここから、\n",
    "\n",
    "$$\n",
    "h(x) = (x + 1)^2\n",
    "$$\n",
    "\n",
    "としよう\n",
    "\n",
    "まずは順伝播から"
   ]
  },
  {
   "cell_type": "code",
   "execution_count": 5,
   "metadata": {},
   "outputs": [
    {
     "name": "stdout",
     "output_type": "stream",
     "text": [
      "16\n"
     ]
    }
   ],
   "source": [
    "# インスタンス生成\n",
    "plus1 = Plus1()\n",
    "square = Square()\n",
    "\n",
    "# 計算\n",
    "x = 3\n",
    "u = plus1(x)\n",
    "y = square(u)\n",
    "print(y)"
   ]
  },
  {
   "cell_type": "markdown",
   "metadata": {},
   "source": [
    "ほい。$h(3) = 16$ということで、正解！\n",
    "\n",
    "じゃあ今度は逆伝播で、$h$の$x=3$での傾きを求めてみよう。$h'(3)$のことだね。  \n",
    "そしてこれはこんな感じで求められる"
   ]
  },
  {
   "cell_type": "code",
   "execution_count": 6,
   "metadata": {},
   "outputs": [
    {
     "name": "stdout",
     "output_type": "stream",
     "text": [
      "8\n"
     ]
    }
   ],
   "source": [
    "d = square.backward(1)\n",
    "d = plus1.backward(d)\n",
    "print(d)"
   ]
  },
  {
   "cell_type": "markdown",
   "metadata": {},
   "source": [
    "$$\n",
    "h'(x) = 2(x + 1) \\\\\n",
    "h'(3) = 8\n",
    "$$\n",
    "\n",
    "ということで正解！  \n",
    "これは合成関数の微分に基づいていて、正に「関数ごとの微分を掛け合わせる」という部分に当たるね！\n",
    "\n",
    "> 入力された値に微分した値をかけて出力する\n",
    "\n",
    "さっきこう捉えた意味が分かったかな...?  \n",
    "微分した結果を逆方向に伝えていく感じだね。一番初めは1を入力しておく。"
   ]
  },
  {
   "cell_type": "markdown",
   "metadata": {},
   "source": [
    "## ニューラルネットワークの構築\n",
    "\n",
    "見てもらった通り、複数の関数を経て出力された値を何らかの変数で微分した値は、関数ごとに微分をすれば簡単に求まる。  \n",
    "んで、これはニューラルネットワークが持つパラメータの勾配を求めるときにも使える。\n",
    "\n",
    "損失をパラメータで微分した値(勾配)を求めるとき、損失を出す際に通った**層**や**損失関数**を一つ一つ微分すればいいよねという話。\n",
    "\n",
    "<br>\n",
    "\n",
    "じゃあ、誤差逆伝播法で学習を行うニューラルネットワークを実際に作ってみようじゃないか"
   ]
  },
  {
   "cell_type": "code",
   "execution_count": 7,
   "metadata": {},
   "outputs": [],
   "source": [
    "import numpy as np"
   ]
  },
  {
   "cell_type": "markdown",
   "metadata": {},
   "source": [
    "### 層の定義\n",
    "\n",
    "NNは複数の層から構成されるので、まずは層を作る。"
   ]
  },
  {
   "cell_type": "markdown",
   "metadata": {},
   "source": [
    "#### ReLU\n",
    "\n",
    "重みとかバイアスみたいなパラメータを持つ層は工夫が必要なので、一旦パラメータを持たない層を作ってみよう。  \n",
    "さっきの関数と同じように作ればOK\n",
    "\n",
    "ちなみにReLUはこういう関数\n",
    "\n",
    "$$\n",
    "y = \\begin{cases}\n",
    "x & (x > 0) \\\\\n",
    "0 & (x \\leq 0) \\\\\n",
    "\\end{cases}\n",
    "$$"
   ]
  },
  {
   "cell_type": "code",
   "execution_count": 8,
   "metadata": {},
   "outputs": [],
   "source": [
    "class ReLU:\n",
    "    def __call__(self, x):\n",
    "        self.x = x\n",
    "        return np.maximum(0, x)\n",
    "\n",
    "    def backward(self, d):\n",
    "        return d * (self.x > 0)\n",
    "\n",
    "    def update(self, lr):\n",
    "        pass"
   ]
  },
  {
   "cell_type": "markdown",
   "metadata": {},
   "source": [
    "できた。bool型は`+`とか`*`みたいな演算子と一緒に使うと0,1として扱ってくれるので、`backward()`はこういう書き方でOK。入力が0を超えてたら傾き1、それ以外は0。\n",
    "\n",
    "さっき実装したような一般的な関数の入出力は「数値」だけど、NNの層の入出力は「ベクトル（というかテンソル）」で行うのでnumpyを使うよ  \n",
    "あと、後々のことを考えて、パラメータを更新するメソッド`update()`を書いている。ReLUはパラメータを持たないので何もしないけど"
   ]
  },
  {
   "cell_type": "markdown",
   "metadata": {},
   "source": [
    "#### 全結合層\n",
    "\n",
    "全結合層。kerasでいうDense。PyTorchでいうLinear。ここではPyTorchに倣ってLinearにしよー"
   ]
  },
  {
   "cell_type": "code",
   "execution_count": 9,
   "metadata": {},
   "outputs": [],
   "source": [
    "class Linear:\n",
    "    def __init__(self, n_input, n_output):\n",
    "        self.w = np.random.normal(size=(n_input, n_output), scale=np.sqrt(2/n_output))\n",
    "        self.b = np.random.randn(n_output)\n",
    "\n",
    "    def __call__(self, x):\n",
    "        self.x = x\n",
    "        return np.dot(x, self.w) + self.b\n",
    "\n",
    "    def backward(self, d):\n",
    "        self.grad_w = np.multiply(*np.meshgrid(d, self.x))\n",
    "        self.grad_b = d\n",
    "        return np.dot(d, self.w.T)\n",
    "\n",
    "    def update(self, lr):\n",
    "        self.w -= lr * self.grad_w\n",
    "        self.b -= lr * self.grad_b"
   ]
  },
  {
   "cell_type": "markdown",
   "metadata": {},
   "source": [
    "できた。ミニバッチは非対応にした。そのせいで`grad_w`が複雑になっているけど、「逆伝播」についてはミニバッチじゃない方が分かりやすい気がしたので。\n",
    "\n",
    "パラメータを持つ層なので、`__init__()`でパラメータを初期化している。  \n",
    "重みもバイアスも正規分布に従って初期化してるけど、重みの初期化は`randn()`ではなく`normal()`を使っている。  \n",
    "`randn()`だと標準偏差が1になるんだけど、それだと重みが大きくなりすぎて上手くいかなかったので、小さくしてる。詳しくは**Xaivierの初期化**とかでググってみて。\n",
    "\n",
    "`backward()`は、入力(d)を各パラメータで微分して変数に入れておく。  \n",
    "それらはパラメータの勾配となるので、`update()`(パラメータ更新)の時は、それらに学習率をかけてパラメータから引く感じ。\n",
    "\n",
    "<br>\n",
    "\n",
    "< `backward()`(逆伝播)について >\n",
    "\n",
    "まず、あるニューロンに対する順伝播時の入力(x)を$x$、出力を$y$、重みを$w$、バイアスを$b$として、これらの関係を表す。\n",
    "\n",
    "$$\n",
    "w \\cdot x + b = y\n",
    "$$\n",
    "\n",
    "内積にバイアスを足しているね\n",
    "\n",
    "これを踏まえて、ここ(逆伝播)で求める値を説明する。求める値は3つ。\n",
    "\n",
    "- 重みの勾配(grad_w)\n",
    "\n",
    "$l$番目の入力($x_l$)から$m$番目の出力($y_m$)への重みを$w_{lm}$とすると、求めたいのは$y$を$w_{lm}$で微分したもの。  \n",
    "で、それは入力(d)に$x_l$をかけたものになる。$l, m$ではない部分やバイアスは微分をする上で関係ないので無視してよくて、残るのは$x_l \\times w_{lm}$の部分だけという感じ。これを$w_{lm}$で微分すると$x_l$だけ残る。\n",
    "\n",
    "これを全ての$l, m$で求めるのがこのコード: `np.multiply(*np.meshgrid(self.x, d))`  \n",
    "これは、全部の組み合わせで掛け算をしているだけ。↓の例を見て理解してくれ。\n",
    "\n",
    "```python\n",
    "a = [1, 2, 3]\n",
    "b = [4, 5]\n",
    "y = np.multiply(*np.meshgrid(a, b))\n",
    "print(y)\n",
    "\n",
    ">> [[ 4  8 12]\n",
    "    [ 5 10 15]]\n",
    "```\n",
    "\n",
    "(これ一発でできる関数とか知っている人いたら教えてほしい...)\n",
    "\n",
    "\n",
    "- バイアスの勾配(grad_b)\n",
    "\n",
    "バイアスで微分する上で内積の部分は関係ないので無視してよい。上の式を$b$で微分すると1なので、バイアス(b)の勾配は、入力(d)に1をかけたd\n",
    "\n",
    "- 入力(x)の勾配(return)\n",
    "\n",
    "ある一つの入力(x)に着目する。この入力(x)は$x_i$としよう。んで、$x_i$は層の全てのニューロン(の演算)に関わっている。  \n",
    "ここで、層のニューロンの数が一つだと仮定しよう。そうすると話は簡単。重みの勾配を求めたときと逆のことをすればいいので、$x_i$の勾配はそこに対応する重み$w_i$となる。  \n",
    "でも実際は層のニューロンが複数あるので、勾配が複数出てきそう。そんなときにどうすればよいか。\n",
    "\n",
    "これは、実はとってもシンプルで、出てきた勾配を全部足せばよい。で、それは行列の積で上手くまとめられて、それがこれ: `np.dot(d, self.w.T)`\n"
   ]
  },
  {
   "cell_type": "markdown",
   "metadata": {},
   "source": [
    "### ニューラルネットワーク\n",
    "\n",
    "ではこれらを組み合わせてNNをつくろー"
   ]
  },
  {
   "cell_type": "code",
   "execution_count": 10,
   "metadata": {},
   "outputs": [],
   "source": [
    "class NeuralNetwork:\n",
    "    def __init__(self, *layers):\n",
    "        self.layers = layers\n",
    "\n",
    "    def __call__(self, x):\n",
    "        for layer in self.layers:\n",
    "            x = layer(x)\n",
    "        return x\n",
    "\n",
    "    def backward(self, d):\n",
    "        for layer in self.layers[::-1]:\n",
    "            d = layer.backward(d)\n",
    "\n",
    "    def update(self, lr):\n",
    "        for layer in self.layers:\n",
    "            layer.update(lr)"
   ]
  },
  {
   "cell_type": "markdown",
   "metadata": {},
   "source": [
    "できた。これだけ。かんたん。  \n",
    "使い方は、インスタンス生成時にレイヤーを入れていくだけ。kerasとかPyTorchでいうSequentialみたいな感じ。以下メソッドの説明\n",
    "\n",
    "- `__call__()`  \n",
    "順伝播。与えた層で順番に演算しているだけ。\n",
    "\n",
    "- `backward()`  \n",
    "逆伝播。リストに`[::-1]`をつけると逆順になる\n",
    "\n",
    "- `update()`  \n",
    "パラメータ更新。逆伝播で求めた勾配に学習率をかけてパラメータから引く。ここをシンプルにするために、パラメータを持たない層にもこのメソッドを書いておいた。\n",
    "\n",
    "<br>\n",
    "\n",
    "試しに使ってみよう"
   ]
  },
  {
   "cell_type": "code",
   "execution_count": 11,
   "metadata": {},
   "outputs": [],
   "source": [
    "nn = NeuralNetwork(\n",
    "    Linear(5, 32),\n",
    "    ReLU(),\n",
    "    Linear(32, 10,)\n",
    ")"
   ]
  },
  {
   "cell_type": "markdown",
   "metadata": {},
   "source": [
    "モデルの構築はこれでOK。入力する値は5個、出てくる値は10個。適当に乱数を5個入れてみると"
   ]
  },
  {
   "cell_type": "code",
   "execution_count": 12,
   "metadata": {},
   "outputs": [
    {
     "name": "stdout",
     "output_type": "stream",
     "text": [
      "[ 2.70924181 -1.15491763  2.64228401  1.00399676 -1.36650978 -2.33312378\n",
      "  2.08624605 -0.2996883   0.48605541  2.26515702]\n"
     ]
    }
   ],
   "source": [
    "x = np.random.randn(5)\n",
    "y = nn(x)\n",
    "print(y)"
   ]
  },
  {
   "cell_type": "markdown",
   "metadata": {},
   "source": [
    "適当な値が10個出てきた。おーけー"
   ]
  },
  {
   "cell_type": "markdown",
   "metadata": {},
   "source": [
    "### 損失関数\n",
    "\n",
    "損失関数もクラスとして書いてみよう"
   ]
  },
  {
   "cell_type": "markdown",
   "metadata": {},
   "source": [
    "#### 二乗和誤差\n",
    "\n",
    "差の二乗の和...を、2で割ったもの。\n",
    "\n",
    "$$\n",
    "\\frac{1}{2} \\sum_{i} (y_i - t_i)^2\n",
    "$$\n",
    "\n",
    "\n",
    "なんで2で割るかって？　微分した時に綺麗になるからだよ〜"
   ]
  },
  {
   "cell_type": "code",
   "execution_count": 13,
   "metadata": {},
   "outputs": [],
   "source": [
    "class RSS:\n",
    "    def __call__(self, y, t):\n",
    "        self.y = y\n",
    "        self.t = t\n",
    "        return np.sum((y - t) ** 2) / 2\n",
    "\n",
    "    def backward(self):\n",
    "        return self.y - self.t"
   ]
  },
  {
   "cell_type": "markdown",
   "metadata": {},
   "source": [
    "`backward()`の中身、綺麗でしょ〜。微分すると二乗の部分が前に出てくるので、$\\frac{1}{2}$と打ち消し合っていい感じになる  \n",
    "あと、ここの逆伝播では何も入力しない。逆伝播の一番最初の部分だから入力はないね。"
   ]
  },
  {
   "cell_type": "markdown",
   "metadata": {},
   "source": [
    "#### 交差エントロピー\n",
    "\n",
    "分類タスクで使うやつ。これを使うときは、出力層の活性化関数はsoftmaxを使う。ので、それも一緒に書いちゃおう！"
   ]
  },
  {
   "cell_type": "code",
   "execution_count": 14,
   "metadata": {},
   "outputs": [],
   "source": [
    "class CrossEntropy:\n",
    "    def __call__(self, y, t):\n",
    "        y = self._softmax(y)\n",
    "        self.y = y\n",
    "        self.t = t\n",
    "        loss = -np.sum(t * np.log(y))\n",
    "        return loss\n",
    "\n",
    "    def backward(self):\n",
    "        return self.y - self.t\n",
    "\n",
    "    def _softmax(self, y):\n",
    "        return np.exp(y) / np.sum(np.exp(y))"
   ]
  },
  {
   "cell_type": "markdown",
   "metadata": {},
   "source": [
    "できた。これも、逆伝播がとってもきれいな形。普通活性化関数はNN側に書くけど、交差エントロピーと一緒に使うとこの部分の微分が綺麗になるので、こっちに書いた。  \n",
    "微分がきれいなのはたまたまではなく、頭のいい人が綺麗になるように考えたからだと思う。\n",
    "\n",
    "<br>\n",
    "\n",
    "二つの損失関数を書いたけど、どちらも逆伝播が「予測値-正解」になっているね。  \n",
    "勾配を求めるときは、これをNNに入れて逆伝播を行うんだけど、「予測値-正解」って、正解と予測値の差だから、「誤差」と表せるよね。\n",
    "\n",
    "「誤差逆伝播法」の由来が分かった気がするね"
   ]
  },
  {
   "cell_type": "markdown",
   "metadata": {},
   "source": [
    "## 学習\n",
    "\n",
    "では実際に学習させてみよう。定番のMNIST。"
   ]
  },
  {
   "cell_type": "code",
   "execution_count": 15,
   "metadata": {},
   "outputs": [
    {
     "name": "stderr",
     "output_type": "stream",
     "text": [
      "2022-10-20 00:19:22.331455: I tensorflow/core/platform/cpu_feature_guard.cc:193] This TensorFlow binary is optimized with oneAPI Deep Neural Network Library (oneDNN) to use the following CPU instructions in performance-critical operations:  AVX2 FMA\n",
      "To enable them in other operations, rebuild TensorFlow with the appropriate compiler flags.\n",
      "2022-10-20 00:19:22.455261: E tensorflow/stream_executor/cuda/cuda_blas.cc:2981] Unable to register cuBLAS factory: Attempting to register factory for plugin cuBLAS when one has already been registered\n",
      "2022-10-20 00:19:22.954952: W tensorflow/stream_executor/platform/default/dso_loader.cc:64] Could not load dynamic library 'libnvinfer.so.7'; dlerror: libnvinfer.so.7: cannot open shared object file: No such file or directory; LD_LIBRARY_PATH: /usr/local/cuda-11.5/lib64:\n",
      "2022-10-20 00:19:22.955084: W tensorflow/stream_executor/platform/default/dso_loader.cc:64] Could not load dynamic library 'libnvinfer_plugin.so.7'; dlerror: libnvinfer_plugin.so.7: cannot open shared object file: No such file or directory; LD_LIBRARY_PATH: /usr/local/cuda-11.5/lib64:\n",
      "2022-10-20 00:19:22.955090: W tensorflow/compiler/tf2tensorrt/utils/py_utils.cc:38] TF-TRT Warning: Cannot dlopen some TensorRT libraries. If you would like to use Nvidia GPU with TensorRT, please make sure the missing libraries mentioned above are installed properly.\n"
     ]
    }
   ],
   "source": [
    "from keras.datasets import mnist\n",
    "(x_train, y_train), (x_test, y_test) = mnist.load_data()\n",
    "\n",
    "# 正規化\n",
    "x_train = x_train.reshape(-1, 784) / 255\n",
    "x_test = x_test.reshape(-1, 784) / 255\n",
    "\n",
    "# one-hotに\n",
    "y_train = np.eye(10)[y_train]\n",
    "y_test = np.eye(10)[y_test]"
   ]
  },
  {
   "cell_type": "markdown",
   "metadata": {},
   "source": [
    "確率的勾配降下法で学習させる。ミニバッチに対応していないので、バッチサイズは1"
   ]
  },
  {
   "cell_type": "code",
   "execution_count": 16,
   "metadata": {},
   "outputs": [],
   "source": [
    "from tqdm import tqdm\n",
    "\n",
    "def train(model, x, y, criterion, lr, n_epochs):\n",
    "    for epoch in range(1, n_epochs+1):\n",
    "        loss = 0\n",
    "        for _ in tqdm(range(len(x)), desc=f'{epoch}epoch'):\n",
    "            # ランダムに一つ抽出\n",
    "            idx = np.random.randint(0, len(x))\n",
    "            sample_x = x[idx]\n",
    "            sample_y = y[idx]\n",
    "\n",
    "            out = model(sample_x) # 順伝播\n",
    "            loss += criterion(out, sample_y) # 損失の計算\n",
    "            d = criterion.backward() # 損失関数の逆伝播\n",
    "            model.backward(d) # ニューラルネットワークの逆伝播\n",
    "            model.update(lr) # パラメータの更新\n",
    "        print(f'loss: {loss / len(x)}')"
   ]
  },
  {
   "cell_type": "markdown",
   "metadata": {},
   "source": [
    "ネットワーク構成は適当！"
   ]
  },
  {
   "cell_type": "code",
   "execution_count": 17,
   "metadata": {},
   "outputs": [],
   "source": [
    "nn = NeuralNetwork(\n",
    "    Linear(784, 512),\n",
    "    ReLU(),\n",
    "    Linear(512, 128),\n",
    "    ReLU(),\n",
    "    Linear(128, 10),\n",
    ")"
   ]
  },
  {
   "cell_type": "markdown",
   "metadata": {},
   "source": [
    "レッツゴー"
   ]
  },
  {
   "cell_type": "code",
   "execution_count": 18,
   "metadata": {},
   "outputs": [
    {
     "name": "stderr",
     "output_type": "stream",
     "text": [
      "1epoch: 100%|██████████| 60000/60000 [01:55<00:00, 517.45it/s]\n"
     ]
    },
    {
     "name": "stdout",
     "output_type": "stream",
     "text": [
      "loss: 0.2695821597613696\n"
     ]
    },
    {
     "name": "stderr",
     "output_type": "stream",
     "text": [
      "2epoch: 100%|██████████| 60000/60000 [01:56<00:00, 516.60it/s]\n"
     ]
    },
    {
     "name": "stdout",
     "output_type": "stream",
     "text": [
      "loss: 0.10846042071623153\n"
     ]
    },
    {
     "name": "stderr",
     "output_type": "stream",
     "text": [
      "3epoch: 100%|██████████| 60000/60000 [01:55<00:00, 521.15it/s]\n"
     ]
    },
    {
     "name": "stdout",
     "output_type": "stream",
     "text": [
      "loss: 0.07909254203673934\n"
     ]
    },
    {
     "name": "stderr",
     "output_type": "stream",
     "text": [
      "4epoch: 100%|██████████| 60000/60000 [01:54<00:00, 523.02it/s]\n"
     ]
    },
    {
     "name": "stdout",
     "output_type": "stream",
     "text": [
      "loss: 0.05543957445079766\n"
     ]
    },
    {
     "name": "stderr",
     "output_type": "stream",
     "text": [
      "5epoch: 100%|██████████| 60000/60000 [01:53<00:00, 529.67it/s]"
     ]
    },
    {
     "name": "stdout",
     "output_type": "stream",
     "text": [
      "loss: 0.04660230423813134\n"
     ]
    },
    {
     "name": "stderr",
     "output_type": "stream",
     "text": [
      "\n"
     ]
    }
   ],
   "source": [
    "train(nn, x_train, y_train, CrossEntropy(), 0.001, 5)"
   ]
  },
  {
   "cell_type": "markdown",
   "metadata": {},
   "source": [
    "私の環境では、1エポックに2分ぐらいだった。cpuなので、こんなもん。\n",
    "\n",
    "いい感じにlossが減っているので上手くいってそう。確認してみよう。"
   ]
  },
  {
   "cell_type": "code",
   "execution_count": 19,
   "metadata": {},
   "outputs": [
    {
     "data": {
      "image/png": "[encoded data removed]",
      "text/plain": [
       "<Figure size 640x480 with 1 Axes>"
      ]
     },
     "metadata": {},
     "output_type": "display_data"
    }
   ],
   "source": [
    "import matplotlib.pyplot as plt\n",
    "\n",
    "sample_x = x_test[0]\n",
    "sample_y = y_test[0]\n",
    "t = np.argmax(sample_y)\n",
    "pred = np.argmax(nn(sample_x))\n",
    "plt.title(f'true: {t}, pred: {pred}')\n",
    "plt.imshow(sample_x.reshape(28, 28), cmap='gray');"
   ]
  },
  {
   "cell_type": "markdown",
   "metadata": {},
   "source": [
    "ちゃんと7と予測できているね。\n",
    "\n",
    "精度も確かめてみよう"
   ]
  },
  {
   "cell_type": "code",
   "execution_count": 20,
   "metadata": {},
   "outputs": [
    {
     "name": "stdout",
     "output_type": "stream",
     "text": [
      "accuracy: 0.9728\n"
     ]
    }
   ],
   "source": [
    "predicts = np.array([nn(x).argmax() for x in x_test])\n",
    "y_test = y_test.argmax(axis=1)\n",
    "print('accuracy:', (predicts == y_test).mean())"
   ]
  },
  {
   "cell_type": "markdown",
   "metadata": {},
   "source": [
    "バッチリ"
   ]
  }
 ],
 "metadata": {
  "kernelspec": {
   "display_name": "Python 3.9.7 ('.venv': venv)",
   "language": "python",
   "name": "python3"
  },
  "language_info": {
   "codemirror_mode": {
    "name": "ipython",
    "version": 3
   },
   "file_extension": ".py",
   "mimetype": "text/x-python",
   "name": "python",
   "nbconvert_exporter": "python",
   "pygments_lexer": "ipython3",
   "version": "3.9.7"
  },
  "orig_nbformat": 4,
  "vscode": {
   "interpreter": {
    "hash": "079aedbe56a1b5173cab2118ff2d67cefb61cc02a7283fc1dc9917aa8b2aaaf9"
   }
  }
 },
 "nbformat": 4,
 "nbformat_minor": 2
}
